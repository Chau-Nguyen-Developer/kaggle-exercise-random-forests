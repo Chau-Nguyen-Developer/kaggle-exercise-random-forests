{
 "cells": [
  {
   "cell_type": "markdown",
   "id": "9f94c66b",
   "metadata": {
    "papermill": {
     "duration": 0.002752,
     "end_time": "2025-08-11T08:37:27.571956",
     "exception": false,
     "start_time": "2025-08-11T08:37:27.569204",
     "status": "completed"
    },
    "tags": []
   },
   "source": [
    "**This notebook is an exercise in the [Introduction to Machine Learning](https://www.kaggle.com/learn/intro-to-machine-learning) course.  You can reference the tutorial at [this link](https://www.kaggle.com/dansbecker/random-forests).**\n",
    "\n",
    "---\n"
   ]
  },
  {
   "cell_type": "markdown",
   "id": "fde59d22",
   "metadata": {
    "papermill": {
     "duration": 0.001822,
     "end_time": "2025-08-11T08:37:27.576269",
     "exception": false,
     "start_time": "2025-08-11T08:37:27.574447",
     "status": "completed"
    },
    "tags": []
   },
   "source": [
    "## Recap\n",
    "Here's the code you've written so far."
   ]
  },
  {
   "cell_type": "code",
   "execution_count": 1,
   "id": "f8831dee",
   "metadata": {
    "execution": {
     "iopub.execute_input": "2025-08-11T08:37:27.582078Z",
     "iopub.status.busy": "2025-08-11T08:37:27.581753Z",
     "iopub.status.idle": "2025-08-11T08:37:31.420599Z",
     "shell.execute_reply": "2025-08-11T08:37:31.419428Z"
    },
    "papermill": {
     "duration": 3.843906,
     "end_time": "2025-08-11T08:37:31.422250",
     "exception": false,
     "start_time": "2025-08-11T08:37:27.578344",
     "status": "completed"
    },
    "tags": []
   },
   "outputs": [
    {
     "name": "stdout",
     "output_type": "stream",
     "text": [
      "Validation MAE when not specifying max_leaf_nodes: 29,653\n",
      "Validation MAE for best value of max_leaf_nodes: 27,283\n",
      "\n",
      "Setup complete\n"
     ]
    }
   ],
   "source": [
    "# Code you have previously used to load data\n",
    "import pandas as pd\n",
    "from sklearn.metrics import mean_absolute_error\n",
    "from sklearn.model_selection import train_test_split\n",
    "from sklearn.tree import DecisionTreeRegressor\n",
    "\n",
    "\n",
    "# Path of the file to read. Create DataFrame.\n",
    "iowa_file_path = '../input/home-data-for-ml-course/train.csv'\n",
    "home_data = pd.read_csv(iowa_file_path)\n",
    "\n",
    "# Create target object and call it y\n",
    "y = home_data.SalePrice\n",
    "\n",
    "# Bundle the features that I want to consider together and assign them to variable X. \n",
    "features = ['LotArea', 'YearBuilt', '1stFlrSF', '2ndFlrSF', 'FullBath', 'BedroomAbvGr', 'TotRmsAbvGrd']\n",
    "X = home_data[features]\n",
    "\n",
    "# Split into validation and training data\n",
    "train_X, val_X, train_y, val_y = train_test_split(X, y, random_state=1)\n",
    "\n",
    "#-------- DECISION TREE WITH NO SPECIFIC MAX_LEAF_NODES -----------------#\n",
    "# Specify Decision Tree model with no specific max_leaf_nodes\n",
    "iowa_model = DecisionTreeRegressor(random_state=1)\n",
    "# Fit Model\n",
    "iowa_model.fit(train_X, train_y)\n",
    "# Make validation predictions and calculate mean absolute error\n",
    "val_predictions = iowa_model.predict(val_X)\n",
    "val_mae = mean_absolute_error(val_predictions, val_y)\n",
    "print(\"Validation MAE when not specifying max_leaf_nodes: {:,.0f}\".format(val_mae))\n",
    "# NOTE: RECAP: specify model -> fit -> predict -> compare and calculate mean_abs_error\n",
    "\n",
    "\n",
    "#--------- DECISION TREE WITH BEST VALUE FOR MAX_LEAF_NODES --------------#\n",
    "# NOTE: RECAP: The value 100 has been identified from previous \"Overfitting and Underfitting\" Excercisethe \n",
    "# Using best value for max_leaf_nodes\n",
    "iowa_model = DecisionTreeRegressor(max_leaf_nodes=100, random_state=1)\n",
    "iowa_model.fit(train_X, train_y)\n",
    "val_predictions = iowa_model.predict(val_X)\n",
    "val_mae = mean_absolute_error(val_predictions, val_y)\n",
    "print(\"Validation MAE for best value of max_leaf_nodes: {:,.0f}\".format(val_mae))\n",
    "\n",
    "\n",
    "# Set up code checking\n",
    "from learntools.core import binder\n",
    "binder.bind(globals())\n",
    "from learntools.machine_learning.ex6 import *\n",
    "print(\"\\nSetup complete\")"
   ]
  },
  {
   "cell_type": "markdown",
   "id": "0cb46725",
   "metadata": {
    "papermill": {
     "duration": 0.001997,
     "end_time": "2025-08-11T08:37:31.427052",
     "exception": false,
     "start_time": "2025-08-11T08:37:31.425055",
     "status": "completed"
    },
    "tags": []
   },
   "source": [
    "# Exercises\n",
    "Data science isn't always this easy. But replacing the decision tree with a Random Forest is going to be an easy win."
   ]
  },
  {
   "cell_type": "markdown",
   "id": "43a35d74",
   "metadata": {
    "papermill": {
     "duration": 0.001836,
     "end_time": "2025-08-11T08:37:31.431032",
     "exception": false,
     "start_time": "2025-08-11T08:37:31.429196",
     "status": "completed"
    },
    "tags": []
   },
   "source": [
    "## Step 1: Use a Random Forest"
   ]
  },
  {
   "cell_type": "code",
   "execution_count": 2,
   "id": "e2f5003b",
   "metadata": {
    "execution": {
     "iopub.execute_input": "2025-08-11T08:37:31.436516Z",
     "iopub.status.busy": "2025-08-11T08:37:31.436212Z",
     "iopub.status.idle": "2025-08-11T08:37:32.026180Z",
     "shell.execute_reply": "2025-08-11T08:37:32.025249Z"
    },
    "papermill": {
     "duration": 0.594534,
     "end_time": "2025-08-11T08:37:32.027651",
     "exception": false,
     "start_time": "2025-08-11T08:37:31.433117",
     "status": "completed"
    },
    "tags": []
   },
   "outputs": [
    {
     "name": "stdout",
     "output_type": "stream",
     "text": [
      "Validation MAE for Random Forest Model: 21857.15912981083\n"
     ]
    },
    {
     "data": {
      "application/javascript": [
       "parent.postMessage({\"jupyterEvent\": \"custom.exercise_interaction\", \"data\": {\"outcomeType\": 1, \"valueTowardsCompletion\": 1.0, \"interactionType\": 1, \"questionType\": 2, \"questionId\": \"1_CheckRfScore\", \"learnToolsVersion\": \"0.3.5\", \"failureMessage\": \"\", \"exceptionClass\": \"\", \"trace\": \"\"}}, \"*\")"
      ],
      "text/plain": [
       "<IPython.core.display.Javascript object>"
      ]
     },
     "metadata": {},
     "output_type": "display_data"
    },
    {
     "data": {
      "text/markdown": [
       "<span style=\"color:#33cc33\">Correct</span>"
      ],
      "text/plain": [
       "Correct"
      ]
     },
     "metadata": {},
     "output_type": "display_data"
    }
   ],
   "source": [
    "from sklearn.ensemble import RandomForestRegressor\n",
    "\n",
    "# Define the model. Set random_state to 1\n",
    "rf_model = RandomForestRegressor(random_state=1)\n",
    "\n",
    "# fit your model\n",
    "rf_model.fit(train_X, train_y)\n",
    "# Make validation predictions\n",
    "rf_val_predictions = rf_model.predict(val_X)\n",
    "\n",
    "# Calculate the mean absolute error of your Random Forest model on the validation data\n",
    "rf_val_mae = mean_absolute_error(rf_val_predictions, val_y)\n",
    "\n",
    "print(\"Validation MAE for Random Forest Model: {}\".format(rf_val_mae))\n",
    "\n",
    "# Check your answer\n",
    "step_1.check()"
   ]
  },
  {
   "cell_type": "code",
   "execution_count": 3,
   "id": "b0e70fdb",
   "metadata": {
    "execution": {
     "iopub.execute_input": "2025-08-11T08:37:32.033555Z",
     "iopub.status.busy": "2025-08-11T08:37:32.033280Z",
     "iopub.status.idle": "2025-08-11T08:37:32.037102Z",
     "shell.execute_reply": "2025-08-11T08:37:32.036239Z"
    },
    "papermill": {
     "duration": 0.008366,
     "end_time": "2025-08-11T08:37:32.038542",
     "exception": false,
     "start_time": "2025-08-11T08:37:32.030176",
     "status": "completed"
    },
    "tags": []
   },
   "outputs": [],
   "source": [
    "# The lines below will show you a hint or the solution.\n",
    "# step_1.hint() \n",
    "# step_1.solution()\n"
   ]
  },
  {
   "cell_type": "markdown",
   "id": "94706529",
   "metadata": {
    "papermill": {
     "duration": 0.002229,
     "end_time": "2025-08-11T08:37:32.043508",
     "exception": false,
     "start_time": "2025-08-11T08:37:32.041279",
     "status": "completed"
    },
    "tags": []
   },
   "source": [
    "So far, you have followed specific instructions at each step of your project. This helped learn key ideas and build your first model, but now you know enough to try things on your own. \n",
    "\n",
    "Machine Learning competitions are a great way to try your own ideas and learn more as you independently navigate a machine learning project. \n",
    "\n",
    "# Keep Going\n",
    "\n",
    "You are ready for **[Machine Learning Competitions](https://www.kaggle.com/alexisbcook/machine-learning-competitions).**\n"
   ]
  },
  {
   "cell_type": "markdown",
   "id": "f8e1d93f",
   "metadata": {
    "papermill": {
     "duration": 0.002095,
     "end_time": "2025-08-11T08:37:32.047893",
     "exception": false,
     "start_time": "2025-08-11T08:37:32.045798",
     "status": "completed"
    },
    "tags": []
   },
   "source": [
    "---\n",
    "\n",
    "\n",
    "\n",
    "\n",
    "*Have questions or comments? Visit the [course discussion forum](https://www.kaggle.com/learn/intro-to-machine-learning/discussion) to chat with other learners.*"
   ]
  }
 ],
 "metadata": {
  "kaggle": {
   "accelerator": "none",
   "dataSources": [
    {
     "databundleVersionId": 111096,
     "sourceId": 10211,
     "sourceType": "competition"
    },
    {
     "datasetId": 11167,
     "sourceId": 15520,
     "sourceType": "datasetVersion"
    },
    {
     "datasetId": 2709,
     "sourceId": 38454,
     "sourceType": "datasetVersion"
    }
   ],
   "isGpuEnabled": false,
   "isInternetEnabled": false,
   "language": "python",
   "sourceType": "notebook"
  },
  "kernelspec": {
   "display_name": "Python 3",
   "language": "python",
   "name": "python3"
  },
  "language_info": {
   "codemirror_mode": {
    "name": "ipython",
    "version": 3
   },
   "file_extension": ".py",
   "mimetype": "text/x-python",
   "name": "python",
   "nbconvert_exporter": "python",
   "pygments_lexer": "ipython3",
   "version": "3.11.13"
  },
  "papermill": {
   "default_parameters": {},
   "duration": 10.076624,
   "end_time": "2025-08-11T08:37:32.771896",
   "environment_variables": {},
   "exception": null,
   "input_path": "__notebook__.ipynb",
   "output_path": "__notebook__.ipynb",
   "parameters": {},
   "start_time": "2025-08-11T08:37:22.695272",
   "version": "2.6.0"
  }
 },
 "nbformat": 4,
 "nbformat_minor": 5
}
